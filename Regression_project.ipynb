{
 "cells": [
  {
   "cell_type": "code",
   "execution_count": 2,
   "metadata": {},
   "outputs": [],
   "source": [
    "import numpy as np\n",
    "import pandas as pd\n",
    "from matplotlib import pyplot as plt\n",
    "from sklearn.datasets import load_boston"
   ]
  },
  {
   "cell_type": "code",
   "execution_count": 3,
   "metadata": {},
   "outputs": [
    {
     "name": "stdout",
     "output_type": "stream",
     "text": [
      ".. _boston_dataset:\n",
      "\n",
      "Boston house prices dataset\n",
      "---------------------------\n",
      "\n",
      "**Data Set Characteristics:**  \n",
      "\n",
      "    :Number of Instances: 506 \n",
      "\n",
      "    :Number of Attributes: 13 numeric/categorical predictive. Median Value (attribute 14) is usually the target.\n",
      "\n",
      "    :Attribute Information (in order):\n",
      "        - CRIM     per capita crime rate by town\n",
      "        - ZN       proportion of residential land zoned for lots over 25,000 sq.ft.\n",
      "        - INDUS    proportion of non-retail business acres per town\n",
      "        - CHAS     Charles River dummy variable (= 1 if tract bounds river; 0 otherwise)\n",
      "        - NOX      nitric oxides concentration (parts per 10 million)\n",
      "        - RM       average number of rooms per dwelling\n",
      "        - AGE      proportion of owner-occupied units built prior to 1940\n",
      "        - DIS      weighted distances to five Boston employment centres\n",
      "        - RAD      index of accessibility to radial highways\n",
      "        - TAX      full-value property-tax rate per $10,000\n",
      "        - PTRATIO  pupil-teacher ratio by town\n",
      "        - B        1000(Bk - 0.63)^2 where Bk is the proportion of blacks by town\n",
      "        - LSTAT    % lower status of the population\n",
      "        - MEDV     Median value of owner-occupied homes in $1000's\n",
      "\n",
      "    :Missing Attribute Values: None\n",
      "\n",
      "    :Creator: Harrison, D. and Rubinfeld, D.L.\n",
      "\n",
      "This is a copy of UCI ML housing dataset.\n",
      "https://archive.ics.uci.edu/ml/machine-learning-databases/housing/\n",
      "\n",
      "\n",
      "This dataset was taken from the StatLib library which is maintained at Carnegie Mellon University.\n",
      "\n",
      "The Boston house-price data of Harrison, D. and Rubinfeld, D.L. 'Hedonic\n",
      "prices and the demand for clean air', J. Environ. Economics & Management,\n",
      "vol.5, 81-102, 1978.   Used in Belsley, Kuh & Welsch, 'Regression diagnostics\n",
      "...', Wiley, 1980.   N.B. Various transformations are used in the table on\n",
      "pages 244-261 of the latter.\n",
      "\n",
      "The Boston house-price data has been used in many machine learning papers that address regression\n",
      "problems.   \n",
      "     \n",
      ".. topic:: References\n",
      "\n",
      "   - Belsley, Kuh & Welsch, 'Regression diagnostics: Identifying Influential Data and Sources of Collinearity', Wiley, 1980. 244-261.\n",
      "   - Quinlan,R. (1993). Combining Instance-Based and Model-Based Learning. In Proceedings on the Tenth International Conference of Machine Learning, 236-243, University of Massachusetts, Amherst. Morgan Kaufmann.\n",
      "\n"
     ]
    }
   ],
   "source": [
    "boston = load_boston()\n",
    "print(boston.DESCR)"
   ]
  },
  {
   "cell_type": "code",
   "execution_count": 20,
   "metadata": {},
   "outputs": [
    {
     "name": "stdout",
     "output_type": "stream",
     "text": [
      "[[6.3200e-03 1.8000e+01 2.3100e+00 ... 1.5300e+01 3.9690e+02 4.9800e+00]\n",
      " [2.7310e-02 0.0000e+00 7.0700e+00 ... 1.7800e+01 3.9690e+02 9.1400e+00]\n",
      " [2.7290e-02 0.0000e+00 7.0700e+00 ... 1.7800e+01 3.9283e+02 4.0300e+00]\n",
      " ...\n",
      " [6.0760e-02 0.0000e+00 1.1930e+01 ... 2.1000e+01 3.9690e+02 5.6400e+00]\n",
      " [1.0959e-01 0.0000e+00 1.1930e+01 ... 2.1000e+01 3.9345e+02 6.4800e+00]\n",
      " [4.7410e-02 0.0000e+00 1.1930e+01 ... 2.1000e+01 3.9690e+02 7.8800e+00]]\n"
     ]
    }
   ],
   "source": [
    "print(boston.data)"
   ]
  },
  {
   "cell_type": "code",
   "execution_count": 21,
   "metadata": {},
   "outputs": [
    {
     "name": "stdout",
     "output_type": "stream",
     "text": [
      "CRIM 0\n",
      "ZN 1\n",
      "INDUS 2\n",
      "CHAS 3\n",
      "NOX 4\n",
      "RM 5\n",
      "AGE 6\n",
      "DIS 7\n",
      "RAD 8\n",
      "TAX 9\n",
      "PTRATIO 10\n",
      "B 11\n",
      "LSTAT 12\n"
     ]
    }
   ],
   "source": [
    "dataset = boston.data\n",
    "for name , index in enumerate(boston.feature_names):\n",
    "    print(index, name)"
   ]
  },
  {
   "cell_type": "code",
   "execution_count": 41,
   "metadata": {},
   "outputs": [],
   "source": [
    "data = dataset[:,12].reshape(-1,1)"
   ]
  },
  {
   "cell_type": "code",
   "execution_count": 42,
   "metadata": {},
   "outputs": [
    {
     "data": {
      "text/plain": [
       "(506, 1)"
      ]
     },
     "execution_count": 42,
     "metadata": {},
     "output_type": "execute_result"
    }
   ],
   "source": [
    "np.shape(data)"
   ]
  },
  {
   "cell_type": "code",
   "execution_count": 43,
   "metadata": {},
   "outputs": [
    {
     "data": {
      "text/plain": [
       "(506, 13)"
      ]
     },
     "execution_count": 43,
     "metadata": {},
     "output_type": "execute_result"
    }
   ],
   "source": [
    "np.shape(dataset)"
   ]
  },
  {
   "cell_type": "code",
   "execution_count": 44,
   "metadata": {},
   "outputs": [
    {
     "data": {
      "text/plain": [
       "array([[ 4.98],\n",
       "       [ 9.14],\n",
       "       [ 4.03],\n",
       "       [ 2.94],\n",
       "       [ 5.33],\n",
       "       [ 5.21],\n",
       "       [12.43],\n",
       "       [19.15],\n",
       "       [29.93],\n",
       "       [17.1 ],\n",
       "       [20.45],\n",
       "       [13.27],\n",
       "       [15.71],\n",
       "       [ 8.26],\n",
       "       [10.26],\n",
       "       [ 8.47],\n",
       "       [ 6.58],\n",
       "       [14.67],\n",
       "       [11.69],\n",
       "       [11.28],\n",
       "       [21.02],\n",
       "       [13.83],\n",
       "       [18.72],\n",
       "       [19.88],\n",
       "       [16.3 ],\n",
       "       [16.51],\n",
       "       [14.81],\n",
       "       [17.28],\n",
       "       [12.8 ],\n",
       "       [11.98],\n",
       "       [22.6 ],\n",
       "       [13.04],\n",
       "       [27.71],\n",
       "       [18.35],\n",
       "       [20.34],\n",
       "       [ 9.68],\n",
       "       [11.41],\n",
       "       [ 8.77],\n",
       "       [10.13],\n",
       "       [ 4.32],\n",
       "       [ 1.98],\n",
       "       [ 4.84],\n",
       "       [ 5.81],\n",
       "       [ 7.44],\n",
       "       [ 9.55],\n",
       "       [10.21],\n",
       "       [14.15],\n",
       "       [18.8 ],\n",
       "       [30.81],\n",
       "       [16.2 ],\n",
       "       [13.45],\n",
       "       [ 9.43],\n",
       "       [ 5.28],\n",
       "       [ 8.43],\n",
       "       [14.8 ],\n",
       "       [ 4.81],\n",
       "       [ 5.77],\n",
       "       [ 3.95],\n",
       "       [ 6.86],\n",
       "       [ 9.22],\n",
       "       [13.15],\n",
       "       [14.44],\n",
       "       [ 6.73],\n",
       "       [ 9.5 ],\n",
       "       [ 8.05],\n",
       "       [ 4.67],\n",
       "       [10.24],\n",
       "       [ 8.1 ],\n",
       "       [13.09],\n",
       "       [ 8.79],\n",
       "       [ 6.72],\n",
       "       [ 9.88],\n",
       "       [ 5.52],\n",
       "       [ 7.54],\n",
       "       [ 6.78],\n",
       "       [ 8.94],\n",
       "       [11.97],\n",
       "       [10.27],\n",
       "       [12.34],\n",
       "       [ 9.1 ],\n",
       "       [ 5.29],\n",
       "       [ 7.22],\n",
       "       [ 6.72],\n",
       "       [ 7.51],\n",
       "       [ 9.62],\n",
       "       [ 6.53],\n",
       "       [12.86],\n",
       "       [ 8.44],\n",
       "       [ 5.5 ],\n",
       "       [ 5.7 ],\n",
       "       [ 8.81],\n",
       "       [ 8.2 ],\n",
       "       [ 8.16],\n",
       "       [ 6.21],\n",
       "       [10.59],\n",
       "       [ 6.65],\n",
       "       [11.34],\n",
       "       [ 4.21],\n",
       "       [ 3.57],\n",
       "       [ 6.19],\n",
       "       [ 9.42],\n",
       "       [ 7.67],\n",
       "       [10.63],\n",
       "       [13.44],\n",
       "       [12.33],\n",
       "       [16.47],\n",
       "       [18.66],\n",
       "       [14.09],\n",
       "       [12.27],\n",
       "       [15.55],\n",
       "       [13.  ],\n",
       "       [10.16],\n",
       "       [16.21],\n",
       "       [17.09],\n",
       "       [10.45],\n",
       "       [15.76],\n",
       "       [12.04],\n",
       "       [10.3 ],\n",
       "       [15.37],\n",
       "       [13.61],\n",
       "       [14.37],\n",
       "       [14.27],\n",
       "       [17.93],\n",
       "       [25.41],\n",
       "       [17.58],\n",
       "       [14.81],\n",
       "       [27.26],\n",
       "       [17.19],\n",
       "       [15.39],\n",
       "       [18.34],\n",
       "       [12.6 ],\n",
       "       [12.26],\n",
       "       [11.12],\n",
       "       [15.03],\n",
       "       [17.31],\n",
       "       [16.96],\n",
       "       [16.9 ],\n",
       "       [14.59],\n",
       "       [21.32],\n",
       "       [18.46],\n",
       "       [24.16],\n",
       "       [34.41],\n",
       "       [26.82],\n",
       "       [26.42],\n",
       "       [29.29],\n",
       "       [27.8 ],\n",
       "       [16.65],\n",
       "       [29.53],\n",
       "       [28.32],\n",
       "       [21.45],\n",
       "       [14.1 ],\n",
       "       [13.28],\n",
       "       [12.12],\n",
       "       [15.79],\n",
       "       [15.12],\n",
       "       [15.02],\n",
       "       [16.14],\n",
       "       [ 4.59],\n",
       "       [ 6.43],\n",
       "       [ 7.39],\n",
       "       [ 5.5 ],\n",
       "       [ 1.73],\n",
       "       [ 1.92],\n",
       "       [ 3.32],\n",
       "       [11.64],\n",
       "       [ 9.81],\n",
       "       [ 3.7 ],\n",
       "       [12.14],\n",
       "       [11.1 ],\n",
       "       [11.32],\n",
       "       [14.43],\n",
       "       [12.03],\n",
       "       [14.69],\n",
       "       [ 9.04],\n",
       "       [ 9.64],\n",
       "       [ 5.33],\n",
       "       [10.11],\n",
       "       [ 6.29],\n",
       "       [ 6.92],\n",
       "       [ 5.04],\n",
       "       [ 7.56],\n",
       "       [ 9.45],\n",
       "       [ 4.82],\n",
       "       [ 5.68],\n",
       "       [13.98],\n",
       "       [13.15],\n",
       "       [ 4.45],\n",
       "       [ 6.68],\n",
       "       [ 4.56],\n",
       "       [ 5.39],\n",
       "       [ 5.1 ],\n",
       "       [ 4.69],\n",
       "       [ 2.87],\n",
       "       [ 5.03],\n",
       "       [ 4.38],\n",
       "       [ 2.97],\n",
       "       [ 4.08],\n",
       "       [ 8.61],\n",
       "       [ 6.62],\n",
       "       [ 4.56],\n",
       "       [ 4.45],\n",
       "       [ 7.43],\n",
       "       [ 3.11],\n",
       "       [ 3.81],\n",
       "       [ 2.88],\n",
       "       [10.87],\n",
       "       [10.97],\n",
       "       [18.06],\n",
       "       [14.66],\n",
       "       [23.09],\n",
       "       [17.27],\n",
       "       [23.98],\n",
       "       [16.03],\n",
       "       [ 9.38],\n",
       "       [29.55],\n",
       "       [ 9.47],\n",
       "       [13.51],\n",
       "       [ 9.69],\n",
       "       [17.92],\n",
       "       [10.5 ],\n",
       "       [ 9.71],\n",
       "       [21.46],\n",
       "       [ 9.93],\n",
       "       [ 7.6 ],\n",
       "       [ 4.14],\n",
       "       [ 4.63],\n",
       "       [ 3.13],\n",
       "       [ 6.36],\n",
       "       [ 3.92],\n",
       "       [ 3.76],\n",
       "       [11.65],\n",
       "       [ 5.25],\n",
       "       [ 2.47],\n",
       "       [ 3.95],\n",
       "       [ 8.05],\n",
       "       [10.88],\n",
       "       [ 9.54],\n",
       "       [ 4.73],\n",
       "       [ 6.36],\n",
       "       [ 7.37],\n",
       "       [11.38],\n",
       "       [12.4 ],\n",
       "       [11.22],\n",
       "       [ 5.19],\n",
       "       [12.5 ],\n",
       "       [18.46],\n",
       "       [ 9.16],\n",
       "       [10.15],\n",
       "       [ 9.52],\n",
       "       [ 6.56],\n",
       "       [ 5.9 ],\n",
       "       [ 3.59],\n",
       "       [ 3.53],\n",
       "       [ 3.54],\n",
       "       [ 6.57],\n",
       "       [ 9.25],\n",
       "       [ 3.11],\n",
       "       [ 5.12],\n",
       "       [ 7.79],\n",
       "       [ 6.9 ],\n",
       "       [ 9.59],\n",
       "       [ 7.26],\n",
       "       [ 5.91],\n",
       "       [11.25],\n",
       "       [ 8.1 ],\n",
       "       [10.45],\n",
       "       [14.79],\n",
       "       [ 7.44],\n",
       "       [ 3.16],\n",
       "       [13.65],\n",
       "       [13.  ],\n",
       "       [ 6.59],\n",
       "       [ 7.73],\n",
       "       [ 6.58],\n",
       "       [ 3.53],\n",
       "       [ 2.98],\n",
       "       [ 6.05],\n",
       "       [ 4.16],\n",
       "       [ 7.19],\n",
       "       [ 4.85],\n",
       "       [ 3.76],\n",
       "       [ 4.59],\n",
       "       [ 3.01],\n",
       "       [ 3.16],\n",
       "       [ 7.85],\n",
       "       [ 8.23],\n",
       "       [12.93],\n",
       "       [ 7.14],\n",
       "       [ 7.6 ],\n",
       "       [ 9.51],\n",
       "       [ 3.33],\n",
       "       [ 3.56],\n",
       "       [ 4.7 ],\n",
       "       [ 8.58],\n",
       "       [10.4 ],\n",
       "       [ 6.27],\n",
       "       [ 7.39],\n",
       "       [15.84],\n",
       "       [ 4.97],\n",
       "       [ 4.74],\n",
       "       [ 6.07],\n",
       "       [ 9.5 ],\n",
       "       [ 8.67],\n",
       "       [ 4.86],\n",
       "       [ 6.93],\n",
       "       [ 8.93],\n",
       "       [ 6.47],\n",
       "       [ 7.53],\n",
       "       [ 4.54],\n",
       "       [ 9.97],\n",
       "       [12.64],\n",
       "       [ 5.98],\n",
       "       [11.72],\n",
       "       [ 7.9 ],\n",
       "       [ 9.28],\n",
       "       [11.5 ],\n",
       "       [18.33],\n",
       "       [15.94],\n",
       "       [10.36],\n",
       "       [12.73],\n",
       "       [ 7.2 ],\n",
       "       [ 6.87],\n",
       "       [ 7.7 ],\n",
       "       [11.74],\n",
       "       [ 6.12],\n",
       "       [ 5.08],\n",
       "       [ 6.15],\n",
       "       [12.79],\n",
       "       [ 9.97],\n",
       "       [ 7.34],\n",
       "       [ 9.09],\n",
       "       [12.43],\n",
       "       [ 7.83],\n",
       "       [ 5.68],\n",
       "       [ 6.75],\n",
       "       [ 8.01],\n",
       "       [ 9.8 ],\n",
       "       [10.56],\n",
       "       [ 8.51],\n",
       "       [ 9.74],\n",
       "       [ 9.29],\n",
       "       [ 5.49],\n",
       "       [ 8.65],\n",
       "       [ 7.18],\n",
       "       [ 4.61],\n",
       "       [10.53],\n",
       "       [12.67],\n",
       "       [ 6.36],\n",
       "       [ 5.99],\n",
       "       [ 5.89],\n",
       "       [ 5.98],\n",
       "       [ 5.49],\n",
       "       [ 7.79],\n",
       "       [ 4.5 ],\n",
       "       [ 8.05],\n",
       "       [ 5.57],\n",
       "       [17.6 ],\n",
       "       [13.27],\n",
       "       [11.48],\n",
       "       [12.67],\n",
       "       [ 7.79],\n",
       "       [14.19],\n",
       "       [10.19],\n",
       "       [14.64],\n",
       "       [ 5.29],\n",
       "       [ 7.12],\n",
       "       [14.  ],\n",
       "       [13.33],\n",
       "       [ 3.26],\n",
       "       [ 3.73],\n",
       "       [ 2.96],\n",
       "       [ 9.53],\n",
       "       [ 8.88],\n",
       "       [34.77],\n",
       "       [37.97],\n",
       "       [13.44],\n",
       "       [23.24],\n",
       "       [21.24],\n",
       "       [23.69],\n",
       "       [21.78],\n",
       "       [17.21],\n",
       "       [21.08],\n",
       "       [23.6 ],\n",
       "       [24.56],\n",
       "       [30.63],\n",
       "       [30.81],\n",
       "       [28.28],\n",
       "       [31.99],\n",
       "       [30.62],\n",
       "       [20.85],\n",
       "       [17.11],\n",
       "       [18.76],\n",
       "       [25.68],\n",
       "       [15.17],\n",
       "       [16.35],\n",
       "       [17.12],\n",
       "       [19.37],\n",
       "       [19.92],\n",
       "       [30.59],\n",
       "       [29.97],\n",
       "       [26.77],\n",
       "       [20.32],\n",
       "       [20.31],\n",
       "       [19.77],\n",
       "       [27.38],\n",
       "       [22.98],\n",
       "       [23.34],\n",
       "       [12.13],\n",
       "       [26.4 ],\n",
       "       [19.78],\n",
       "       [10.11],\n",
       "       [21.22],\n",
       "       [34.37],\n",
       "       [20.08],\n",
       "       [36.98],\n",
       "       [29.05],\n",
       "       [25.79],\n",
       "       [26.64],\n",
       "       [20.62],\n",
       "       [22.74],\n",
       "       [15.02],\n",
       "       [15.7 ],\n",
       "       [14.1 ],\n",
       "       [23.29],\n",
       "       [17.16],\n",
       "       [24.39],\n",
       "       [15.69],\n",
       "       [14.52],\n",
       "       [21.52],\n",
       "       [24.08],\n",
       "       [17.64],\n",
       "       [19.69],\n",
       "       [12.03],\n",
       "       [16.22],\n",
       "       [15.17],\n",
       "       [23.27],\n",
       "       [18.05],\n",
       "       [26.45],\n",
       "       [34.02],\n",
       "       [22.88],\n",
       "       [22.11],\n",
       "       [19.52],\n",
       "       [16.59],\n",
       "       [18.85],\n",
       "       [23.79],\n",
       "       [23.98],\n",
       "       [17.79],\n",
       "       [16.44],\n",
       "       [18.13],\n",
       "       [19.31],\n",
       "       [17.44],\n",
       "       [17.73],\n",
       "       [17.27],\n",
       "       [16.74],\n",
       "       [18.71],\n",
       "       [18.13],\n",
       "       [19.01],\n",
       "       [16.94],\n",
       "       [16.23],\n",
       "       [14.7 ],\n",
       "       [16.42],\n",
       "       [14.65],\n",
       "       [13.99],\n",
       "       [10.29],\n",
       "       [13.22],\n",
       "       [14.13],\n",
       "       [17.15],\n",
       "       [21.32],\n",
       "       [18.13],\n",
       "       [14.76],\n",
       "       [16.29],\n",
       "       [12.87],\n",
       "       [14.36],\n",
       "       [11.66],\n",
       "       [18.14],\n",
       "       [24.1 ],\n",
       "       [18.68],\n",
       "       [24.91],\n",
       "       [18.03],\n",
       "       [13.11],\n",
       "       [10.74],\n",
       "       [ 7.74],\n",
       "       [ 7.01],\n",
       "       [10.42],\n",
       "       [13.34],\n",
       "       [10.58],\n",
       "       [14.98],\n",
       "       [11.45],\n",
       "       [18.06],\n",
       "       [23.97],\n",
       "       [29.68],\n",
       "       [18.07],\n",
       "       [13.35],\n",
       "       [12.01],\n",
       "       [13.59],\n",
       "       [17.6 ],\n",
       "       [21.14],\n",
       "       [14.1 ],\n",
       "       [12.92],\n",
       "       [15.1 ],\n",
       "       [14.33],\n",
       "       [ 9.67],\n",
       "       [ 9.08],\n",
       "       [ 5.64],\n",
       "       [ 6.48],\n",
       "       [ 7.88]])"
      ]
     },
     "execution_count": 44,
     "metadata": {},
     "output_type": "execute_result"
    }
   ],
   "source": [
    "data"
   ]
  },
  {
   "cell_type": "code",
   "execution_count": 45,
   "metadata": {},
   "outputs": [],
   "source": [
    "target = boston.target.reshape(-1,1)"
   ]
  },
  {
   "cell_type": "code",
   "execution_count": 46,
   "metadata": {},
   "outputs": [
    {
     "data": {
      "text/plain": [
       "(506, 1)"
      ]
     },
     "execution_count": 46,
     "metadata": {},
     "output_type": "execute_result"
    }
   ],
   "source": [
    "np.shape(target)"
   ]
  },
  {
   "cell_type": "code",
   "execution_count": 47,
   "metadata": {},
   "outputs": [
    {
     "data": {
      "text/html": [
       "<div>\n",
       "<style scoped>\n",
       "    .dataframe tbody tr th:only-of-type {\n",
       "        vertical-align: middle;\n",
       "    }\n",
       "\n",
       "    .dataframe tbody tr th {\n",
       "        vertical-align: top;\n",
       "    }\n",
       "\n",
       "    .dataframe thead th {\n",
       "        text-align: right;\n",
       "    }\n",
       "</style>\n",
       "<table border=\"1\" class=\"dataframe\">\n",
       "  <thead>\n",
       "    <tr style=\"text-align: right;\">\n",
       "      <th></th>\n",
       "      <th>0</th>\n",
       "    </tr>\n",
       "  </thead>\n",
       "  <tbody>\n",
       "    <tr>\n",
       "      <th>0</th>\n",
       "      <td>4.98</td>\n",
       "    </tr>\n",
       "    <tr>\n",
       "      <th>1</th>\n",
       "      <td>9.14</td>\n",
       "    </tr>\n",
       "    <tr>\n",
       "      <th>2</th>\n",
       "      <td>4.03</td>\n",
       "    </tr>\n",
       "    <tr>\n",
       "      <th>3</th>\n",
       "      <td>2.94</td>\n",
       "    </tr>\n",
       "    <tr>\n",
       "      <th>4</th>\n",
       "      <td>5.33</td>\n",
       "    </tr>\n",
       "    <tr>\n",
       "      <th>...</th>\n",
       "      <td>...</td>\n",
       "    </tr>\n",
       "    <tr>\n",
       "      <th>501</th>\n",
       "      <td>9.67</td>\n",
       "    </tr>\n",
       "    <tr>\n",
       "      <th>502</th>\n",
       "      <td>9.08</td>\n",
       "    </tr>\n",
       "    <tr>\n",
       "      <th>503</th>\n",
       "      <td>5.64</td>\n",
       "    </tr>\n",
       "    <tr>\n",
       "      <th>504</th>\n",
       "      <td>6.48</td>\n",
       "    </tr>\n",
       "    <tr>\n",
       "      <th>505</th>\n",
       "      <td>7.88</td>\n",
       "    </tr>\n",
       "  </tbody>\n",
       "</table>\n",
       "<p>506 rows × 1 columns</p>\n",
       "</div>"
      ],
      "text/plain": [
       "        0\n",
       "0    4.98\n",
       "1    9.14\n",
       "2    4.03\n",
       "3    2.94\n",
       "4    5.33\n",
       "..    ...\n",
       "501  9.67\n",
       "502  9.08\n",
       "503  5.64\n",
       "504  6.48\n",
       "505  7.88\n",
       "\n",
       "[506 rows x 1 columns]"
      ]
     },
     "execution_count": 47,
     "metadata": {},
     "output_type": "execute_result"
    }
   ],
   "source": [
    "pd.DataFrame(data)"
   ]
  },
  {
   "cell_type": "code",
   "execution_count": 48,
   "metadata": {},
   "outputs": [
    {
     "data": {
      "text/html": [
       "<div>\n",
       "<style scoped>\n",
       "    .dataframe tbody tr th:only-of-type {\n",
       "        vertical-align: middle;\n",
       "    }\n",
       "\n",
       "    .dataframe tbody tr th {\n",
       "        vertical-align: top;\n",
       "    }\n",
       "\n",
       "    .dataframe thead th {\n",
       "        text-align: right;\n",
       "    }\n",
       "</style>\n",
       "<table border=\"1\" class=\"dataframe\">\n",
       "  <thead>\n",
       "    <tr style=\"text-align: right;\">\n",
       "      <th></th>\n",
       "      <th>0</th>\n",
       "    </tr>\n",
       "  </thead>\n",
       "  <tbody>\n",
       "    <tr>\n",
       "      <th>0</th>\n",
       "      <td>24.0</td>\n",
       "    </tr>\n",
       "    <tr>\n",
       "      <th>1</th>\n",
       "      <td>21.6</td>\n",
       "    </tr>\n",
       "    <tr>\n",
       "      <th>2</th>\n",
       "      <td>34.7</td>\n",
       "    </tr>\n",
       "    <tr>\n",
       "      <th>3</th>\n",
       "      <td>33.4</td>\n",
       "    </tr>\n",
       "    <tr>\n",
       "      <th>4</th>\n",
       "      <td>36.2</td>\n",
       "    </tr>\n",
       "    <tr>\n",
       "      <th>...</th>\n",
       "      <td>...</td>\n",
       "    </tr>\n",
       "    <tr>\n",
       "      <th>501</th>\n",
       "      <td>22.4</td>\n",
       "    </tr>\n",
       "    <tr>\n",
       "      <th>502</th>\n",
       "      <td>20.6</td>\n",
       "    </tr>\n",
       "    <tr>\n",
       "      <th>503</th>\n",
       "      <td>23.9</td>\n",
       "    </tr>\n",
       "    <tr>\n",
       "      <th>504</th>\n",
       "      <td>22.0</td>\n",
       "    </tr>\n",
       "    <tr>\n",
       "      <th>505</th>\n",
       "      <td>11.9</td>\n",
       "    </tr>\n",
       "  </tbody>\n",
       "</table>\n",
       "<p>506 rows × 1 columns</p>\n",
       "</div>"
      ],
      "text/plain": [
       "        0\n",
       "0    24.0\n",
       "1    21.6\n",
       "2    34.7\n",
       "3    33.4\n",
       "4    36.2\n",
       "..    ...\n",
       "501  22.4\n",
       "502  20.6\n",
       "503  23.9\n",
       "504  22.0\n",
       "505  11.9\n",
       "\n",
       "[506 rows x 1 columns]"
      ]
     },
     "execution_count": 48,
     "metadata": {},
     "output_type": "execute_result"
    }
   ],
   "source": [
    "pd.DataFrame(target)"
   ]
  },
  {
   "cell_type": "code",
   "execution_count": 49,
   "metadata": {},
   "outputs": [
    {
     "data": {
      "text/html": [
       "<div>\n",
       "<style scoped>\n",
       "    .dataframe tbody tr th:only-of-type {\n",
       "        vertical-align: middle;\n",
       "    }\n",
       "\n",
       "    .dataframe tbody tr th {\n",
       "        vertical-align: top;\n",
       "    }\n",
       "\n",
       "    .dataframe thead th {\n",
       "        text-align: right;\n",
       "    }\n",
       "</style>\n",
       "<table border=\"1\" class=\"dataframe\">\n",
       "  <thead>\n",
       "    <tr style=\"text-align: right;\">\n",
       "      <th></th>\n",
       "      <th>0</th>\n",
       "      <th>1</th>\n",
       "      <th>2</th>\n",
       "      <th>3</th>\n",
       "      <th>4</th>\n",
       "      <th>5</th>\n",
       "      <th>6</th>\n",
       "      <th>7</th>\n",
       "      <th>8</th>\n",
       "      <th>9</th>\n",
       "      <th>10</th>\n",
       "      <th>11</th>\n",
       "      <th>12</th>\n",
       "    </tr>\n",
       "  </thead>\n",
       "  <tbody>\n",
       "    <tr>\n",
       "      <th>0</th>\n",
       "      <td>0.00632</td>\n",
       "      <td>18.0</td>\n",
       "      <td>2.31</td>\n",
       "      <td>0.0</td>\n",
       "      <td>0.538</td>\n",
       "      <td>6.575</td>\n",
       "      <td>65.2</td>\n",
       "      <td>4.0900</td>\n",
       "      <td>1.0</td>\n",
       "      <td>296.0</td>\n",
       "      <td>15.3</td>\n",
       "      <td>396.90</td>\n",
       "      <td>4.98</td>\n",
       "    </tr>\n",
       "    <tr>\n",
       "      <th>1</th>\n",
       "      <td>0.02731</td>\n",
       "      <td>0.0</td>\n",
       "      <td>7.07</td>\n",
       "      <td>0.0</td>\n",
       "      <td>0.469</td>\n",
       "      <td>6.421</td>\n",
       "      <td>78.9</td>\n",
       "      <td>4.9671</td>\n",
       "      <td>2.0</td>\n",
       "      <td>242.0</td>\n",
       "      <td>17.8</td>\n",
       "      <td>396.90</td>\n",
       "      <td>9.14</td>\n",
       "    </tr>\n",
       "    <tr>\n",
       "      <th>2</th>\n",
       "      <td>0.02729</td>\n",
       "      <td>0.0</td>\n",
       "      <td>7.07</td>\n",
       "      <td>0.0</td>\n",
       "      <td>0.469</td>\n",
       "      <td>7.185</td>\n",
       "      <td>61.1</td>\n",
       "      <td>4.9671</td>\n",
       "      <td>2.0</td>\n",
       "      <td>242.0</td>\n",
       "      <td>17.8</td>\n",
       "      <td>392.83</td>\n",
       "      <td>4.03</td>\n",
       "    </tr>\n",
       "    <tr>\n",
       "      <th>3</th>\n",
       "      <td>0.03237</td>\n",
       "      <td>0.0</td>\n",
       "      <td>2.18</td>\n",
       "      <td>0.0</td>\n",
       "      <td>0.458</td>\n",
       "      <td>6.998</td>\n",
       "      <td>45.8</td>\n",
       "      <td>6.0622</td>\n",
       "      <td>3.0</td>\n",
       "      <td>222.0</td>\n",
       "      <td>18.7</td>\n",
       "      <td>394.63</td>\n",
       "      <td>2.94</td>\n",
       "    </tr>\n",
       "    <tr>\n",
       "      <th>4</th>\n",
       "      <td>0.06905</td>\n",
       "      <td>0.0</td>\n",
       "      <td>2.18</td>\n",
       "      <td>0.0</td>\n",
       "      <td>0.458</td>\n",
       "      <td>7.147</td>\n",
       "      <td>54.2</td>\n",
       "      <td>6.0622</td>\n",
       "      <td>3.0</td>\n",
       "      <td>222.0</td>\n",
       "      <td>18.7</td>\n",
       "      <td>396.90</td>\n",
       "      <td>5.33</td>\n",
       "    </tr>\n",
       "    <tr>\n",
       "      <th>...</th>\n",
       "      <td>...</td>\n",
       "      <td>...</td>\n",
       "      <td>...</td>\n",
       "      <td>...</td>\n",
       "      <td>...</td>\n",
       "      <td>...</td>\n",
       "      <td>...</td>\n",
       "      <td>...</td>\n",
       "      <td>...</td>\n",
       "      <td>...</td>\n",
       "      <td>...</td>\n",
       "      <td>...</td>\n",
       "      <td>...</td>\n",
       "    </tr>\n",
       "    <tr>\n",
       "      <th>501</th>\n",
       "      <td>0.06263</td>\n",
       "      <td>0.0</td>\n",
       "      <td>11.93</td>\n",
       "      <td>0.0</td>\n",
       "      <td>0.573</td>\n",
       "      <td>6.593</td>\n",
       "      <td>69.1</td>\n",
       "      <td>2.4786</td>\n",
       "      <td>1.0</td>\n",
       "      <td>273.0</td>\n",
       "      <td>21.0</td>\n",
       "      <td>391.99</td>\n",
       "      <td>9.67</td>\n",
       "    </tr>\n",
       "    <tr>\n",
       "      <th>502</th>\n",
       "      <td>0.04527</td>\n",
       "      <td>0.0</td>\n",
       "      <td>11.93</td>\n",
       "      <td>0.0</td>\n",
       "      <td>0.573</td>\n",
       "      <td>6.120</td>\n",
       "      <td>76.7</td>\n",
       "      <td>2.2875</td>\n",
       "      <td>1.0</td>\n",
       "      <td>273.0</td>\n",
       "      <td>21.0</td>\n",
       "      <td>396.90</td>\n",
       "      <td>9.08</td>\n",
       "    </tr>\n",
       "    <tr>\n",
       "      <th>503</th>\n",
       "      <td>0.06076</td>\n",
       "      <td>0.0</td>\n",
       "      <td>11.93</td>\n",
       "      <td>0.0</td>\n",
       "      <td>0.573</td>\n",
       "      <td>6.976</td>\n",
       "      <td>91.0</td>\n",
       "      <td>2.1675</td>\n",
       "      <td>1.0</td>\n",
       "      <td>273.0</td>\n",
       "      <td>21.0</td>\n",
       "      <td>396.90</td>\n",
       "      <td>5.64</td>\n",
       "    </tr>\n",
       "    <tr>\n",
       "      <th>504</th>\n",
       "      <td>0.10959</td>\n",
       "      <td>0.0</td>\n",
       "      <td>11.93</td>\n",
       "      <td>0.0</td>\n",
       "      <td>0.573</td>\n",
       "      <td>6.794</td>\n",
       "      <td>89.3</td>\n",
       "      <td>2.3889</td>\n",
       "      <td>1.0</td>\n",
       "      <td>273.0</td>\n",
       "      <td>21.0</td>\n",
       "      <td>393.45</td>\n",
       "      <td>6.48</td>\n",
       "    </tr>\n",
       "    <tr>\n",
       "      <th>505</th>\n",
       "      <td>0.04741</td>\n",
       "      <td>0.0</td>\n",
       "      <td>11.93</td>\n",
       "      <td>0.0</td>\n",
       "      <td>0.573</td>\n",
       "      <td>6.030</td>\n",
       "      <td>80.8</td>\n",
       "      <td>2.5050</td>\n",
       "      <td>1.0</td>\n",
       "      <td>273.0</td>\n",
       "      <td>21.0</td>\n",
       "      <td>396.90</td>\n",
       "      <td>7.88</td>\n",
       "    </tr>\n",
       "  </tbody>\n",
       "</table>\n",
       "<p>506 rows × 13 columns</p>\n",
       "</div>"
      ],
      "text/plain": [
       "           0     1      2    3      4      5     6       7    8      9    10  \\\n",
       "0    0.00632  18.0   2.31  0.0  0.538  6.575  65.2  4.0900  1.0  296.0  15.3   \n",
       "1    0.02731   0.0   7.07  0.0  0.469  6.421  78.9  4.9671  2.0  242.0  17.8   \n",
       "2    0.02729   0.0   7.07  0.0  0.469  7.185  61.1  4.9671  2.0  242.0  17.8   \n",
       "3    0.03237   0.0   2.18  0.0  0.458  6.998  45.8  6.0622  3.0  222.0  18.7   \n",
       "4    0.06905   0.0   2.18  0.0  0.458  7.147  54.2  6.0622  3.0  222.0  18.7   \n",
       "..       ...   ...    ...  ...    ...    ...   ...     ...  ...    ...   ...   \n",
       "501  0.06263   0.0  11.93  0.0  0.573  6.593  69.1  2.4786  1.0  273.0  21.0   \n",
       "502  0.04527   0.0  11.93  0.0  0.573  6.120  76.7  2.2875  1.0  273.0  21.0   \n",
       "503  0.06076   0.0  11.93  0.0  0.573  6.976  91.0  2.1675  1.0  273.0  21.0   \n",
       "504  0.10959   0.0  11.93  0.0  0.573  6.794  89.3  2.3889  1.0  273.0  21.0   \n",
       "505  0.04741   0.0  11.93  0.0  0.573  6.030  80.8  2.5050  1.0  273.0  21.0   \n",
       "\n",
       "         11    12  \n",
       "0    396.90  4.98  \n",
       "1    396.90  9.14  \n",
       "2    392.83  4.03  \n",
       "3    394.63  2.94  \n",
       "4    396.90  5.33  \n",
       "..      ...   ...  \n",
       "501  391.99  9.67  \n",
       "502  396.90  9.08  \n",
       "503  396.90  5.64  \n",
       "504  393.45  6.48  \n",
       "505  396.90  7.88  \n",
       "\n",
       "[506 rows x 13 columns]"
      ]
     },
     "execution_count": 49,
     "metadata": {},
     "output_type": "execute_result"
    }
   ],
   "source": [
    "pd.DataFrame(dataset)"
   ]
  },
  {
   "cell_type": "code",
   "execution_count": 50,
   "metadata": {},
   "outputs": [
    {
     "data": {
      "image/png": "[encoded data removed]",
      "text/plain": [
       "<Figure size 432x288 with 1 Axes>"
      ]
     },
     "metadata": {
      "needs_background": "light"
     },
     "output_type": "display_data"
    }
   ],
   "source": [
    "%matplotlib inline\n",
    "plt.scatter(data, target)\n",
    "plt.xlabel('Lower Income Population')\n",
    "plt.ylabel('Cost of House')\n",
    "plt.show()"
   ]
  },
  {
   "cell_type": "code",
   "execution_count": 51,
   "metadata": {},
   "outputs": [],
   "source": [
    "#Regression part\n",
    "from sklearn.linear_model import LinearRegression"
   ]
  },
  {
   "cell_type": "code",
   "execution_count": 52,
   "metadata": {},
   "outputs": [],
   "source": [
    "reg = LinearRegression()"
   ]
  },
  {
   "cell_type": "code",
   "execution_count": 55,
   "metadata": {},
   "outputs": [
    {
     "data": {
      "text/plain": [
       "LinearRegression(copy_X=True, fit_intercept=True, n_jobs=None, normalize=False)"
      ]
     },
     "execution_count": 55,
     "metadata": {},
     "output_type": "execute_result"
    }
   ],
   "source": [
    "reg.fit(data,target)"
   ]
  },
  {
   "cell_type": "code",
   "execution_count": 56,
   "metadata": {},
   "outputs": [],
   "source": [
    "pred = reg.predict(data)"
   ]
  },
  {
   "cell_type": "code",
   "execution_count": 57,
   "metadata": {},
   "outputs": [
    {
     "data": {
      "image/png": "[encoded data removed]",
      "text/plain": [
       "<Figure size 432x288 with 1 Axes>"
      ]
     },
     "metadata": {
      "needs_background": "light"
     },
     "output_type": "display_data"
    }
   ],
   "source": [
    "%matplotlib inline\n",
    "plt.scatter(data, target, color = 'red')\n",
    "plt.plot(data, pred, color = 'green')\n",
    "plt.xlabel('Lower Income Population')\n",
    "plt.ylabel('Cost of House')\n",
    "plt.show()"
   ]
  },
  {
   "cell_type": "code",
   "execution_count": 123,
   "metadata": {},
   "outputs": [
    {
     "data": {
      "text/plain": [
       "0.1260555992076492"
      ]
     },
     "execution_count": 123,
     "metadata": {},
     "output_type": "execute_result"
    }
   ],
   "source": [
    "from sklearn.metrics import r2_score\n",
    "r2_score(pred,target) "
   ]
  },
  {
   "cell_type": "code",
   "execution_count": 64,
   "metadata": {},
   "outputs": [],
   "source": [
    "from sklearn.linear_model import Lasso"
   ]
  },
  {
   "cell_type": "code",
   "execution_count": 65,
   "metadata": {},
   "outputs": [],
   "source": [
    "reg2 = Lasso()"
   ]
  },
  {
   "cell_type": "code",
   "execution_count": 66,
   "metadata": {},
   "outputs": [
    {
     "data": {
      "text/plain": [
       "Lasso(alpha=1.0, copy_X=True, fit_intercept=True, max_iter=1000,\n",
       "      normalize=False, positive=False, precompute=False, random_state=None,\n",
       "      selection='cyclic', tol=0.0001, warm_start=False)"
      ]
     },
     "execution_count": 66,
     "metadata": {},
     "output_type": "execute_result"
    }
   ],
   "source": [
    "reg2.fit(data, target)"
   ]
  },
  {
   "cell_type": "code",
   "execution_count": 67,
   "metadata": {},
   "outputs": [],
   "source": [
    "pred2 = reg2.predict(data)"
   ]
  },
  {
   "cell_type": "code",
   "execution_count": 70,
   "metadata": {},
   "outputs": [
    {
     "data": {
      "image/png": "[encoded data removed]",
      "text/plain": [
       "<Figure size 432x288 with 1 Axes>"
      ]
     },
     "metadata": {
      "needs_background": "light"
     },
     "output_type": "display_data"
    }
   ],
   "source": [
    "%matplotlib inline\n",
    "plt.scatter(data, target, color = 'red')\n",
    "plt.plot(data, pred2, color = 'green')\n",
    "plt.xlabel('Lower Income Population')\n",
    "plt.ylabel('Cost of House')\n",
    "plt.show()from sklearn.metrics import r2_score\n",
    "r2_score(pred4,target)"
   ]
  },
  {
   "cell_type": "code",
   "execution_count": 124,
   "metadata": {},
   "outputs": [
    {
     "data": {
      "text/plain": [
       "0.1260555992076492"
      ]
     },
     "execution_count": 124,
     "metadata": {},
     "output_type": "execute_result"
    }
   ],
   "source": [
    "from sklearn.metrics import r2_score\n",
    "r2_score(pred2,target)"
   ]
  },
  {
   "cell_type": "code",
   "execution_count": 71,
   "metadata": {},
   "outputs": [],
   "source": [
    "from sklearn.linear_model import Ridge"
   ]
  },
  {
   "cell_type": "code",
   "execution_count": 72,
   "metadata": {},
   "outputs": [],
   "source": [
    "reg3 = Ridge()"
   ]
  },
  {
   "cell_type": "code",
   "execution_count": 73,
   "metadata": {},
   "outputs": [
    {
     "data": {
      "text/plain": [
       "Ridge(alpha=1.0, copy_X=True, fit_intercept=True, max_iter=None,\n",
       "      normalize=False, random_state=None, solver='auto', tol=0.001)"
      ]
     },
     "execution_count": 73,
     "metadata": {},
     "output_type": "execute_result"
    }
   ],
   "source": [
    "reg3.fit(data, target)"
   ]
  },
  {
   "cell_type": "code",
   "execution_count": 74,
   "metadata": {},
   "outputs": [],
   "source": [
    "pred3 = reg3.predict(data)"
   ]
  },
  {
   "cell_type": "code",
   "execution_count": 75,
   "metadata": {},
   "outputs": [
    {
     "data": {
      "image/png": "[encoded data removed]",
      "text/plain": [
       "<Figure size 432x288 with 1 Axes>"
      ]
     },
     "metadata": {
      "needs_background": "light"
     },
     "output_type": "display_data"
    }
   ],
   "source": [
    "%matplotlib inline\n",
    "plt.scatter(data, target, color = 'red')\n",
    "plt.plot(data, pred3, color = 'green')\n",
    "plt.xlabel('Lower Income Population')\n",
    "plt.ylabel('Cost of House')\n",
    "plt.show()"
   ]
  },
  {
   "cell_type": "code",
   "execution_count": 125,
   "metadata": {},
   "outputs": [
    {
     "data": {
      "text/plain": [
       "0.16219386436985217"
      ]
     },
     "execution_count": 125,
     "metadata": {},
     "output_type": "execute_result"
    }
   ],
   "source": [
    "from sklearn.metrics import r2_score\n",
    "r2_score(pred3,target)"
   ]
  },
  {
   "cell_type": "code",
   "execution_count": 76,
   "metadata": {},
   "outputs": [],
   "source": [
    "from sklearn.preprocessing import PolynomialFeatures"
   ]
  },
  {
   "cell_type": "code",
   "execution_count": 77,
   "metadata": {},
   "outputs": [],
   "source": [
    "from sklearn.pipeline import make_pipeline"
   ]
  },
  {
   "cell_type": "code",
   "execution_count": 113,
   "metadata": {},
   "outputs": [],
   "source": [
    "model = make_pipeline(PolynomialFeatures(3),reg)"
   ]
  },
  {
   "cell_type": "code",
   "execution_count": 114,
   "metadata": {},
   "outputs": [
    {
     "data": {
      "text/plain": [
       "Pipeline(memory=None,\n",
       "         steps=[('polynomialfeatures',\n",
       "                 PolynomialFeatures(degree=3, include_bias=True,\n",
       "                                    interaction_only=False, order='C')),\n",
       "                ('linearregression',\n",
       "                 LinearRegression(copy_X=True, fit_intercept=True, n_jobs=None,\n",
       "                                  normalize=False))],\n",
       "         verbose=False)"
      ]
     },
     "execution_count": 114,
     "metadata": {},
     "output_type": "execute_result"
    }
   ],
   "source": [
    "model"
   ]
  },
  {
   "cell_type": "code",
   "execution_count": 115,
   "metadata": {},
   "outputs": [
    {
     "data": {
      "text/plain": [
       "Pipeline(memory=None,\n",
       "         steps=[('polynomialfeatures',\n",
       "                 PolynomialFeatures(degree=3, include_bias=True,\n",
       "                                    interaction_only=False, order='C')),\n",
       "                ('linearregression',\n",
       "                 LinearRegression(copy_X=True, fit_intercept=True, n_jobs=None,\n",
       "                                  normalize=False))],\n",
       "         verbose=False)"
      ]
     },
     "execution_count": 115,
     "metadata": {},
     "output_type": "execute_result"
    }
   ],
   "source": [
    "model.fit(data, target)"
   ]
  },
  {
   "cell_type": "code",
   "execution_count": 116,
   "metadata": {},
   "outputs": [],
   "source": [
    "pred4 = model.predict(data)"
   ]
  },
  {
   "cell_type": "code",
   "execution_count": 117,
   "metadata": {},
   "outputs": [
    {
     "data": {
      "image/png": "[encoded data removed]",
      "text/plain": [
       "<Figure size 432x288 with 1 Axes>"
      ]
     },
     "metadata": {
      "needs_background": "light"
     },
     "output_type": "display_data"
    }
   ],
   "source": [
    "%matplotlib inline\n",
    "plt.scatter(data, target, color = 'red')\n",
    "plt.plot(data, pred4, color = 'green')\n",
    "plt.xlabel('Lower Income Population')\n",
    "plt.ylabel('Cost of House')\n",
    "plt.show()"
   ]
  },
  {
   "cell_type": "code",
   "execution_count": 126,
   "metadata": {},
   "outputs": [
    {
     "data": {
      "text/plain": [
       "0.4798911810275541"
      ]
     },
     "execution_count": 126,
     "metadata": {},
     "output_type": "execute_result"
    }
   ],
   "source": [
    "from sklearn.metrics import r2_score\n",
    "r2_score(pred4,target)"
   ]
  },
  {
   "cell_type": "code",
   "execution_count": 127,
   "metadata": {},
   "outputs": [
    {
     "data": {
      "text/plain": [
       "0.1260555992076492"
      ]
     },
     "execution_count": 127,
     "metadata": {},
     "output_type": "execute_result"
    }
   ],
   "source": [
    "# result from linear regression model\n",
    "from sklearn.metrics import r2_score\n",
    "r2_score(pred,target)"
   ]
  },
  {
   "cell_type": "code",
   "execution_count": 128,
   "metadata": {},
   "outputs": [
    {
     "data": {
      "text/plain": [
       "0.1260555992076492"
      ]
     },
     "execution_count": 128,
     "metadata": {},
     "output_type": "execute_result"
    }
   ],
   "source": [
    "# result from lasso model\n",
    "from sklearn.metrics import r2_score\n",
    "r2_score(pred2,target)"
   ]
  },
  {
   "cell_type": "code",
   "execution_count": 129,
   "metadata": {},
   "outputs": [
    {
     "data": {
      "text/plain": [
       "0.16219386436985217"
      ]
     },
     "execution_count": 129,
     "metadata": {},
     "output_type": "execute_result"
    }
   ],
   "source": [
    "# result from Ridge\n",
    "from sklearn.metrics import r2_score\n",
    "r2_score(pred3,target)"
   ]
  },
  {
   "cell_type": "code",
   "execution_count": 130,
   "metadata": {},
   "outputs": [
    {
     "data": {
      "text/plain": [
       "0.4798911810275541"
      ]
     },
     "execution_count": 130,
     "metadata": {},
     "output_type": "execute_result"
    }
   ],
   "source": [
    "# result from Polynomial regression model\n",
    "from sklearn.metrics import r2_score\n",
    "r2_score(pred4,target)"
   ]
  },
  {
   "cell_type": "code",
   "execution_count": 132,
   "metadata": {},
   "outputs": [
    {
     "name": "stdout",
     "output_type": "stream",
     "text": [
      "Accuracy percentage when LinearRegression model is applied =  56.302779960382466\n",
      "Accuracy percentage when Lasso model is applied =  56.302779960382466\n",
      "Accuracy percentage when Ridge model is applied =  58.10969321849261\n",
      "Accuracy percentage when PolynomialRegression model is applied =  73.9945590513777\n"
     ]
    }
   ],
   "source": [
    "#percentage\n",
    "print('Accuracy percentage when LinearRegression model is applied = ',((r2_score(pred,target) +1)/2)*100)\n",
    "print('Accuracy percentage when Lasso model is applied = ',((r2_score(pred2,target) +1)/2)*100)\n",
    "print('Accuracy percentage when Ridge model is applied = ',((r2_score(pred3,target) +1)/2)*100)\n",
    "print('Accuracy percentage when PolynomialRegression model is applied = ',((r2_score(pred4,target) +1)/2)*100)"
   ]
  },
  {
   "cell_type": "code",
   "execution_count": null,
   "metadata": {},
   "outputs": [],
   "source": []
  }
 ],
 "metadata": {
  "kernelspec": {
   "display_name": "Python 3",
   "language": "python",
   "name": "python3"
  },
  "language_info": {
   "codemirror_mode": {
    "name": "ipython",
    "version": 3
   },
   "file_extension": ".py",
   "mimetype": "text/x-python",
   "name": "python",
   "nbconvert_exporter": "python",
   "pygments_lexer": "ipython3",
   "version": "3.7.6"
  }
 },
 "nbformat": 4,
 "nbformat_minor": 4
}
